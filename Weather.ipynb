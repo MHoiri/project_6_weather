{
 "cells": [
  {
   "cell_type": "code",
   "execution_count": 13,
   "metadata": {},
   "outputs": [],
   "source": [
    "import requests\n",
    "import csv"
   ]
  },
  {
   "cell_type": "code",
   "execution_count": 14,
   "metadata": {},
   "outputs": [],
   "source": [
    "response = requests.get(\"https://www.metaweather.com/api/location/1521894/\")"
   ]
  },
  {
   "cell_type": "code",
   "execution_count": 15,
   "metadata": {},
   "outputs": [],
   "source": [
    "weatherData= response.json()"
   ]
  },
  {
   "cell_type": "code",
   "execution_count": 16,
   "metadata": {},
   "outputs": [
    {
     "data": {
      "text/plain": [
       "{'consolidated_weather': [{'id': 5456142080671744,\n",
       "   'weather_state_name': 'Light Cloud',\n",
       "   'weather_state_abbr': 'lc',\n",
       "   'wind_direction_compass': 'W',\n",
       "   'created': '2022-03-10T04:34:23.580033Z',\n",
       "   'applicable_date': '2022-03-10',\n",
       "   'min_temp': 12.07,\n",
       "   'max_temp': 19.835,\n",
       "   'the_temp': 19.59,\n",
       "   'wind_speed': 12.28259793690978,\n",
       "   'wind_direction': 267.2643772112682,\n",
       "   'air_pressure': 1012.5,\n",
       "   'humidity': 37,\n",
       "   'visibility': 10.932094070627535,\n",
       "   'predictability': 70},\n",
       "  {'id': 6568700611133440,\n",
       "   'weather_state_name': 'Heavy Cloud',\n",
       "   'weather_state_abbr': 'hc',\n",
       "   'wind_direction_compass': 'NW',\n",
       "   'created': '2022-03-10T04:34:25.891352Z',\n",
       "   'applicable_date': '2022-03-11',\n",
       "   'min_temp': 9.54,\n",
       "   'max_temp': 17.659999999999997,\n",
       "   'the_temp': 16.83,\n",
       "   'wind_speed': 10.62338970015642,\n",
       "   'wind_direction': 307.54262583134135,\n",
       "   'air_pressure': 1020.0,\n",
       "   'humidity': 35,\n",
       "   'visibility': 11.476104549431321,\n",
       "   'predictability': 71},\n",
       "  {'id': 4781265816387584,\n",
       "   'weather_state_name': 'Heavy Cloud',\n",
       "   'weather_state_abbr': 'hc',\n",
       "   'wind_direction_compass': 'N',\n",
       "   'created': '2022-03-10T04:34:29.340601Z',\n",
       "   'applicable_date': '2022-03-12',\n",
       "   'min_temp': 7.935,\n",
       "   'max_temp': 18.775,\n",
       "   'the_temp': 16.215,\n",
       "   'wind_speed': 7.497291235584189,\n",
       "   'wind_direction': 8.574843708245758,\n",
       "   'air_pressure': 1022.5,\n",
       "   'humidity': 36,\n",
       "   'visibility': 11.478900719796389,\n",
       "   'predictability': 71},\n",
       "  {'id': 5138977536344064,\n",
       "   'weather_state_name': 'Light Cloud',\n",
       "   'weather_state_abbr': 'lc',\n",
       "   'wind_direction_compass': 'NE',\n",
       "   'created': '2022-03-10T04:34:31.481683Z',\n",
       "   'applicable_date': '2022-03-13',\n",
       "   'min_temp': 7.725,\n",
       "   'max_temp': 19.38,\n",
       "   'the_temp': 17.345,\n",
       "   'wind_speed': 7.864565329576607,\n",
       "   'wind_direction': 38.5,\n",
       "   'air_pressure': 1021.0,\n",
       "   'humidity': 38,\n",
       "   'visibility': 12.773527598822874,\n",
       "   'predictability': 70},\n",
       "  {'id': 6111426851635200,\n",
       "   'weather_state_name': 'Light Cloud',\n",
       "   'weather_state_abbr': 'lc',\n",
       "   'wind_direction_compass': 'N',\n",
       "   'created': '2022-03-10T04:34:34.469754Z',\n",
       "   'applicable_date': '2022-03-14',\n",
       "   'min_temp': 8.32,\n",
       "   'max_temp': 17.67,\n",
       "   'the_temp': 17.200000000000003,\n",
       "   'wind_speed': 8.587452394949494,\n",
       "   'wind_direction': 6.499999999999985,\n",
       "   'air_pressure': 1022.5,\n",
       "   'humidity': 43,\n",
       "   'visibility': 12.204972957925714,\n",
       "   'predictability': 70},\n",
       "  {'id': 6359074531704832,\n",
       "   'weather_state_name': 'Light Cloud',\n",
       "   'weather_state_abbr': 'lc',\n",
       "   'wind_direction_compass': 'N',\n",
       "   'created': '2022-03-10T04:34:37.548555Z',\n",
       "   'applicable_date': '2022-03-15',\n",
       "   'min_temp': 6.93,\n",
       "   'max_temp': 18.945,\n",
       "   'the_temp': 15.0,\n",
       "   'wind_speed': 8.051275351944643,\n",
       "   'wind_direction': 1.99999999999999,\n",
       "   'air_pressure': 1026.0,\n",
       "   'humidity': 43,\n",
       "   'visibility': 9.999726596675416,\n",
       "   'predictability': 70}],\n",
       " 'time': '2022-03-10T06:47:26.870849+02:00',\n",
       " 'sun_rise': '2022-03-10T06:11:04.007380+02:00',\n",
       " 'sun_set': '2022-03-10T17:59:57.732818+02:00',\n",
       " 'timezone_name': 'LMT',\n",
       " 'parent': {'title': 'Egypt',\n",
       "  'location_type': 'Country',\n",
       "  'woeid': 23424802,\n",
       "  'latt_long': '26.837090,30.796391'},\n",
       " 'sources': [{'title': 'BBC',\n",
       "   'slug': 'bbc',\n",
       "   'url': 'http://www.bbc.co.uk/weather/',\n",
       "   'crawl_rate': 360},\n",
       "  {'title': 'Forecast.io',\n",
       "   'slug': 'forecast-io',\n",
       "   'url': 'http://forecast.io/',\n",
       "   'crawl_rate': 480},\n",
       "  {'title': 'HAMweather',\n",
       "   'slug': 'hamweather',\n",
       "   'url': 'http://www.hamweather.com/',\n",
       "   'crawl_rate': 360},\n",
       "  {'title': 'Met Office',\n",
       "   'slug': 'met-office',\n",
       "   'url': 'http://www.metoffice.gov.uk/',\n",
       "   'crawl_rate': 180},\n",
       "  {'title': 'OpenWeatherMap',\n",
       "   'slug': 'openweathermap',\n",
       "   'url': 'http://openweathermap.org/',\n",
       "   'crawl_rate': 360},\n",
       "  {'title': 'Weather Underground',\n",
       "   'slug': 'wunderground',\n",
       "   'url': 'https://www.wunderground.com/?apiref=fc30dc3cd224e19b',\n",
       "   'crawl_rate': 720},\n",
       "  {'title': 'World Weather Online',\n",
       "   'slug': 'world-weather-online',\n",
       "   'url': 'http://www.worldweatheronline.com/',\n",
       "   'crawl_rate': 360}],\n",
       " 'title': 'Cairo',\n",
       " 'location_type': 'City',\n",
       " 'woeid': 1521894,\n",
       " 'latt_long': '30.049950,31.248600',\n",
       " 'timezone': 'Africa/Cairo'}"
      ]
     },
     "execution_count": 16,
     "metadata": {},
     "output_type": "execute_result"
    }
   ],
   "source": [
    "weatherData"
   ]
  },
  {
   "cell_type": "code",
   "execution_count": 19,
   "metadata": {},
   "outputs": [],
   "source": [
    "with open(\"weather data\",'w',newline='') as f:\n",
    "    writer= csv.DictWriter(f,fieldnames=[\"Date\",\"Temberature\",\"Humidity\",\"Visibility\",\"Air pressure\"])\n",
    "    writer.writeheader()\n",
    "\n",
    "    for e in weatherData['consolidated_weather']:\n",
    "        date=e['applicable_date']\n",
    "        temberature=e['the_temp']\n",
    "        humidity=e['humidity']\n",
    "        vis=e['visibility']\n",
    "        pressure= e['air_pressure']\n",
    "\n",
    "        writer.writerow(\n",
    "            {\n",
    "                'Date':date,\n",
    "                'Temberature':temberature,\n",
    "                'Humidity':humidity,\n",
    "                'Visibility':vis,\n",
    "                'Air pressure':pressure\n",
    "            }\n",
    "        )"
   ]
  },
  {
   "cell_type": "code",
   "execution_count": 6,
   "metadata": {},
   "outputs": [
    {
     "name": "stdout",
     "output_type": "stream",
     "text": [
      "21.455 | 41 | 12.780362681937484 | 2022-03-10 | ['air_pressure']\n",
      "17.11 | 38 | 10.697215759961823 | 2022-03-11 | ['air_pressure']\n",
      "16.189999999999998 | 37 | 11.225691958959676 | 2022-03-12 | ['air_pressure']\n",
      "16.48 | 39 | 11.066310248150799 | 2022-03-13 | ['air_pressure']\n",
      "17.97 | 41 | 12.881335500676052 | 2022-03-14 | ['air_pressure']\n",
      "15.89 | 42 | 9.999726596675416 | 2022-03-15 | ['air_pressure']\n"
     ]
    }
   ],
   "source": [
    "for e in weatherData['consolidated_weather']:\n",
    "    print(e['the_temp'], '|', e['humidity'], '|', e['visibility'], '|', e['applicable_date'], '|', ['air_pressure'])"
   ]
  },
  {
   "cell_type": "code",
   "execution_count": null,
   "metadata": {},
   "outputs": [],
   "source": []
  }
 ],
 "metadata": {
  "interpreter": {
   "hash": "5d7396fd15fe9ecb8108477d7fdd0cb877f5e15b6a84674f8994ce8c281b1511"
  },
  "kernelspec": {
   "display_name": "Python 3.9.7 ('base')",
   "language": "python",
   "name": "python3"
  },
  "language_info": {
   "codemirror_mode": {
    "name": "ipython",
    "version": 3
   },
   "file_extension": ".py",
   "mimetype": "text/x-python",
   "name": "python",
   "nbconvert_exporter": "python",
   "pygments_lexer": "ipython3",
   "version": "3.9.7"
  },
  "orig_nbformat": 4
 },
 "nbformat": 4,
 "nbformat_minor": 2
}
